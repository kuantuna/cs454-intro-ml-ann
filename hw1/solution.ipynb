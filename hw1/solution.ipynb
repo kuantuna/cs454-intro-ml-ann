{
 "cells": [
  {
   "cell_type": "code",
   "execution_count": 3,
   "metadata": {},
   "outputs": [],
   "source": [
    "import numpy as np\n",
    "import pandas as pd\n",
    "from sklearn.metrics import mean_squared_error\n",
    "import matplotlib as plt"
   ]
  },
  {
   "cell_type": "code",
   "execution_count": 4,
   "metadata": {},
   "outputs": [],
   "source": [
    "train_dfs = []\n",
    "for idx in range(1, 11):\n",
    "    train_dfs.append(pd.read_csv(\"sample{}.csv\".format(idx), header=None))"
   ]
  },
  {
   "cell_type": "code",
   "execution_count": 5,
   "metadata": {},
   "outputs": [],
   "source": [
    "test_df = pd.read_csv(\"test.csv\", header=None)"
   ]
  },
  {
   "cell_type": "code",
   "execution_count": 6,
   "metadata": {},
   "outputs": [],
   "source": [
    "train_xs = []\n",
    "train_ys = []\n",
    "for df in train_dfs:\n",
    "    train_xs.append(df.iloc[:, 0].values)\n",
    "    train_ys.append(df.iloc[:, 1].values)"
   ]
  },
  {
   "cell_type": "code",
   "execution_count": 7,
   "metadata": {},
   "outputs": [],
   "source": [
    "test_x = test_df.iloc[:, 0].values\n",
    "test_y = test_df.iloc[:, 1].values"
   ]
  },
  {
   "cell_type": "code",
   "execution_count": 8,
   "metadata": {},
   "outputs": [],
   "source": [
    "model_dict = {\n",
    "    1: [],\n",
    "    2: [],\n",
    "    3: [],\n",
    "    4: [],\n",
    "    5: [],\n",
    "    6: []\n",
    "}\n",
    "for idx in range(1, 7):\n",
    "    for train_x, train_y in zip(train_xs, train_ys):\n",
    "        model_dict[idx].append(np.polyfit(train_x, train_y, idx))"
   ]
  },
  {
   "cell_type": "code",
   "execution_count": 13,
   "metadata": {},
   "outputs": [],
   "source": [
    "def predict(x, model):\n",
    "    arr = []\n",
    "    for data in x:\n",
    "        dim = len(model) - 1\n",
    "        pred = 0\n",
    "        for i in model:\n",
    "            if model[-1] == i:\n",
    "                pred += i\n",
    "                break\n",
    "            pred += (data ** dim) * i\n",
    "            dim -= 1\n",
    "        arr.append(pred)\n",
    "    return arr"
   ]
  },
  {
   "cell_type": "code",
   "execution_count": 14,
   "metadata": {},
   "outputs": [],
   "source": [
    "mse_dict = {\n",
    "    1: [],\n",
    "    2: [],\n",
    "    3: [],\n",
    "    4: [],\n",
    "    5: [],\n",
    "    6: []\n",
    "}\n",
    "for idx in range(1, 7):\n",
    "    for model in model_dict[idx]:\n",
    "        mse_dict[idx].append(mean_squared_error(test_y, predict(test_x, model)))"
   ]
  },
  {
   "cell_type": "code",
   "execution_count": 17,
   "metadata": {},
   "outputs": [
    {
     "name": "stdout",
     "output_type": "stream",
     "text": [
      "mse_dict1 [2.567272528135012, 2.6095481409662464, 3.444971650701764, 2.786426817331451, 2.583674322409223, 3.445554764623103, 2.6158264871464136, 3.0777750790671536, 2.7511853969409197, 2.588870387820492]\n",
      "mse_dict2 [1.9268225266724486, 2.013260422264308, 2.3447657982100414, 2.113691075554605, 2.2107624869713383, 2.1331996586714745, 2.0070640441998733, 2.208997102223812, 2.0692536648931, 2.0895040591667096]\n",
      "mse_dict3 [1.5497249787356444, 1.914317046598652, 1.9885742712429306, 1.5816195995297704, 1.6714191535243175, 1.9520274442440078, 1.63047027109046, 1.6393188530181089, 1.963922707714174, 1.6338800044539974]\n",
      "mse_dict4 [1.6018397980686216, 1.9407904534903055, 2.1377027970042897, 1.5831023434000844, 1.6399737224503097, 1.9575776282353987, 1.8094072474835605, 1.6869870519995696, 1.88934834056969, 1.5818635254672428]\n",
      "mse_dict5 [1.7282666326675555, 1.9852435955958276, 2.337159260799627, 1.591852886057904, 1.6617003939839352, 2.00260988657892, 1.9507208342183324, 1.7963050169128711, 3.4535966495613133, 1.7483061305547247]\n",
      "mse_dict6 [1.7368982626137008, 2.0602243875256594, 2.338943487710146, 1.6186765173254736, 2.0402740142589995, 3.6910090331239074, 3.036933051199549, 2.0784809330596836, 14.835643970673473, 1.8919263383224896]\n"
     ]
    }
   ],
   "source": [
    "for idx in range(1, 7):\n",
    "    print(\"mse_dict{}\".format(idx), mse_dict[idx])"
   ]
  },
  {
   "cell_type": "code",
   "execution_count": 18,
   "metadata": {},
   "outputs": [],
   "source": [
    "def average_mse(mse_dict):\n",
    "    averages = []\n",
    "    for idx in range(1, 7):\n",
    "        averages.append(sum(mse_dict[idx]) / len(mse_dict[idx]))\n",
    "    return averages"
   ]
  },
  {
   "cell_type": "code",
   "execution_count": 19,
   "metadata": {},
   "outputs": [
    {
     "name": "stdout",
     "output_type": "stream",
     "text": [
      "[2.8471105575141777, 2.1117320838827713, 1.752527433015206, 1.7828592908169072, 2.0255761286931007, 3.532900999581308]\n"
     ]
    }
   ],
   "source": [
    "print(average_mse(mse_dict))"
   ]
  },
  {
   "cell_type": "code",
   "execution_count": null,
   "metadata": {},
   "outputs": [],
   "source": []
  }
 ],
 "metadata": {
  "interpreter": {
   "hash": "b3ba2566441a7c06988d0923437866b63cedc61552a5af99d1f4fb67d367b25f"
  },
  "kernelspec": {
   "display_name": "Python 3.9.7 ('base')",
   "language": "python",
   "name": "python3"
  },
  "language_info": {
   "codemirror_mode": {
    "name": "ipython",
    "version": 3
   },
   "file_extension": ".py",
   "mimetype": "text/x-python",
   "name": "python",
   "nbconvert_exporter": "python",
   "pygments_lexer": "ipython3",
   "version": "3.9.7"
  },
  "orig_nbformat": 4
 },
 "nbformat": 4,
 "nbformat_minor": 2
}
